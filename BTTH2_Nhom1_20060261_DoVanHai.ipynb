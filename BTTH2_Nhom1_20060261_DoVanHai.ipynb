{
  "cells": [
    {
      "cell_type": "markdown",
      "metadata": {
        "id": "tjdEUrO8Rnqa"
      },
      "source": [
        "MSSV: 20060261\n",
        "\n",
        "Họ và tên: Đỗ Văn Hải\n",
        "\n",
        "Lớp học phần: 420300207401\n",
        "\n",
        "Nhóm thực hành: 1"
      ]
    },
    {
      "cell_type": "markdown",
      "metadata": {
        "id": "uT3wmYOKRnqi"
      },
      "source": [
        "# 1. Decision Making and Loops\n",
        "---"
      ]
    },
    {
      "cell_type": "markdown",
      "metadata": {
        "id": "zN-cbfCtRnqi"
      },
      "source": [
        "## 1.1. Viết chương trình kiểm tra một số là số dương, số âm hay bằng không không.\n",
        "\n",
        "Sử dụng 2 dạng của câu lệnh rễ nhánh:\n",
        "\n",
        "if ... elif ... else\n",
        "\n",
        "Nested if"
      ]
    },
    {
      "cell_type": "code",
      "execution_count": null,
      "metadata": {
        "colab": {
          "base_uri": "https://localhost:8080/"
        },
        "id": "w5LWmyu2Rnqj",
        "outputId": "e8f7e2e8-d682-4405-bd0e-d4d499ad5f1f"
      },
      "outputs": [
        {
          "output_type": "stream",
          "name": "stdout",
          "text": [
            "Nhap mot so: 4\n",
            "4 :So duong\n"
          ]
        }
      ],
      "source": [
        "# Dạng 1 if ... elif ... else\n",
        "num = int(input(\"Nhap mot so: \"))\n",
        "if num < 0:\n",
        "   print(num, ':So am')\n",
        "elif num == 0:\n",
        "   print(num, ':So 0')\n",
        "else:\n",
        "   print(num, ':So duong')"
      ]
    },
    {
      "cell_type": "code",
      "execution_count": null,
      "metadata": {
        "colab": {
          "base_uri": "https://localhost:8080/"
        },
        "id": "7CeC4mwaRnqj",
        "outputId": "45e52053-4294-4701-cf46-fea143c36cbc"
      },
      "outputs": [
        {
          "output_type": "stream",
          "name": "stdout",
          "text": [
            "Nhập vào một số: -5\n",
            "-5.0 :Số âm\n"
          ]
        }
      ],
      "source": [
        "# Dạng 2: Nested if\n",
        "num = float(input(\"Nhập vào một số: \"))\n",
        "\n",
        "### START CODE HERE ###\n",
        "if num >= 0:\n",
        "   if num == 0:\n",
        "       print(num,\":Số Không\")\n",
        "   else:\n",
        "       print(num,\":Số dương\")\n",
        "else:\n",
        "   print(num,\":Số âm\")\n",
        "\n",
        "### END CODE HERE ###"
      ]
    },
    {
      "cell_type": "markdown",
      "metadata": {
        "id": "kqRAKtizRnqj"
      },
      "source": [
        "## 1.2. Viết chương trình kiểm tra một năm có phải năm nhuận không.\n",
        "\n",
        "Năm nhuận là năm chia hết cho 4, trừ những năm đầu thế kỷ (chia hết cho 100). Những năm đầu thế kỷ là năm nhuận khi nó chia hết cho 400 (ví dụ năm 2100 không phải là năm nhuận, 2104 là năm nhuận).\n",
        "\n",
        "Sử dụng 2 dạng của câu lệnh rễ nhánh:\n",
        "\n",
        "if ... elif ... else\n",
        "\n",
        "Nested if"
      ]
    },
    {
      "cell_type": "code",
      "execution_count": null,
      "metadata": {
        "colab": {
          "base_uri": "https://localhost:8080/"
        },
        "id": "oH6YsJXvRnqk",
        "outputId": "f459831d-47d3-4128-dbff-2407cf2c96d9"
      },
      "outputs": [
        {
          "output_type": "stream",
          "name": "stdout",
          "text": [
            "Nhập năm: 2100\n",
            "2100 không phải là năm nhuận\n"
          ]
        }
      ],
      "source": [
        "# Sử dụng lệnh if lồng nhau\n",
        "year = int(input(\"Nhập năm: \"))\n",
        "\n",
        "if (year % 4) == 0:\n",
        "    if (year % 100) == 0:\n",
        "        if (year % 400) == 0:\n",
        "            print(\"{0} là năm nhuận\".format(year))\n",
        "        else:\n",
        "            print(\"{0} không phải là năm nhuận\".format(year))\n",
        "    else:\n",
        "        print(\"{0} là năm nhuận\".format(year))\n",
        "else:\n",
        "    print(\"{0} không phải là năm nhuận\".format(year))"
      ]
    },
    {
      "cell_type": "code",
      "execution_count": null,
      "metadata": {
        "colab": {
          "base_uri": "https://localhost:8080/"
        },
        "id": "HAFnVyW3Rnqk",
        "outputId": "ab5f63c4-a44a-4731-e382-96a70ae06813"
      },
      "outputs": [
        {
          "output_type": "stream",
          "name": "stdout",
          "text": [
            "Nhập năm: 2100\n",
            "2100 :Nam khong nhuan\n"
          ]
        }
      ],
      "source": [
        "# Sử dụng lệnh if ... elif ... else\n",
        "year = int(input(\"Nhập năm: \"))\n",
        "\n",
        "### START CODE HERE ###\n",
        "if (year % 400 == 0) or ((year % 4 == 0) and (year % 100 != 0)):\n",
        "    print(year,':Nam nhuan')\n",
        "else:\n",
        "    print(year,':Nam khong nhuan')\n",
        "\n",
        "### END CODE HERE ###"
      ]
    },
    {
      "cell_type": "markdown",
      "metadata": {
        "id": "3Qw0TlfFRnqk"
      },
      "source": [
        "## 1.3. Viết chương trình kiểm tra một số nguyên có phải số nguyên tố không. Nếu không phải là số nguyên tố in ra lý do."
      ]
    },
    {
      "cell_type": "code",
      "execution_count": null,
      "metadata": {
        "colab": {
          "base_uri": "https://localhost:8080/"
        },
        "id": "_UmcIn9kRnql",
        "outputId": "d62c68df-3ae7-4210-c6bf-4811dd383b90"
      },
      "outputs": [
        {
          "output_type": "stream",
          "name": "stdout",
          "text": [
            "Enter a number: 7\n",
            "7 la so nguyen to!\n"
          ]
        }
      ],
      "source": [
        "num = int(input(\"Enter a number: \"))\n",
        "\n",
        "# Số nguyên tố phải lớn hơn 1\n",
        "if num > 1:\n",
        "    for i in range(2,num):\n",
        "        if (num % i) == 0:\n",
        "            ### START CODE HERE ###\n",
        "          print(\"{} khong la so nguyen to!\".format(num))\n",
        "          break\n",
        "            ### END CODE HERE ###\n",
        "    else:\n",
        "        ### START CODE HERE ###\n",
        "      print(\"{} la so nguyen to!\".format(num))\n",
        "\n",
        "        ### END CODE HERE ###\n",
        "\n",
        "else:\n",
        "    print(num,\"không phải là số nguyên tố\")"
      ]
    },
    {
      "cell_type": "markdown",
      "metadata": {
        "id": "e0sXNB5ERnql"
      },
      "source": [
        "## 1.4. Viết chương trình in ra tất cả các số nguyên tố trong khoảng (a,b)"
      ]
    },
    {
      "cell_type": "code",
      "execution_count": null,
      "metadata": {
        "colab": {
          "base_uri": "https://localhost:8080/"
        },
        "id": "ozMNzB_4Rnql",
        "outputId": "00e9e249-0776-44a1-d821-a182ff4fa71a"
      },
      "outputs": [
        {
          "output_type": "stream",
          "name": "stdout",
          "text": [
            "Prime numbers between 900 and 1000 are:\n",
            "901 903 905 907 909 911 913 915 917 919 921 923 925 927 929 931 933 935 937 939 941 943 945 947 949 951 953 955 957 959 961 963 965 967 969 971 973 975 977 979 981 983 985 987 989 991 993 995 997 999 "
          ]
        }
      ],
      "source": [
        "# Python program to display all the prime numbers within an interval\n",
        "import math\n",
        "lower = 900\n",
        "upper = 1000\n",
        "\n",
        "print(\"Prime numbers between\", lower, \"and\", upper, \"are:\")\n",
        "\n",
        "for num in range(lower, upper + 1):\n",
        "    if num > 1:\n",
        "        ### START CODE HERE ###\n",
        "        # Sử dụng for ... else\n",
        "        for j in range(2, int(math.sqrt(i))+1):\n",
        "\n",
        "                   if num % j == 0:\n",
        "\n",
        "                       break\n",
        "\n",
        "        else:\n",
        "                   print(num, end=' ')\n",
        "\n",
        "\n",
        "\n",
        "        ### END CODE HERE ###"
      ]
    },
    {
      "cell_type": "markdown",
      "metadata": {
        "id": "zMzvnUpERnql"
      },
      "source": [
        "## 1.5. Viết chương trình in ra 5 số Armstrong bé nhất.\n",
        "\n",
        "Một số nguyên dương gồm n chữ số được gọi là số Armstrong bậc n nếu\n",
        "\n",
        "abcd... = a^n + b^n + c^n + d^n + ...\n",
        "\n",
        "VD: 153 = 1*1*1 + 5*5*5 + 3*3*3"
      ]
    },
    {
      "cell_type": "code",
      "execution_count": null,
      "metadata": {
        "colab": {
          "base_uri": "https://localhost:8080/",
          "height": 262
        },
        "id": "SKw0vdX-Rnqm",
        "outputId": "4c53e40f-9406-45a0-9ca6-19caa5a6ba41"
      },
      "outputs": [
        {
          "output_type": "stream",
          "name": "stdout",
          "text": [
            "1\n"
          ]
        },
        {
          "output_type": "error",
          "ename": "KeyboardInterrupt",
          "evalue": "ignored",
          "traceback": [
            "\u001b[0;31m---------------------------------------------------------------------------\u001b[0m",
            "\u001b[0;31mKeyboardInterrupt\u001b[0m                         Traceback (most recent call last)",
            "\u001b[0;32m<ipython-input-5-6c0bf188ef21>\u001b[0m in \u001b[0;36m<cell line: 8>\u001b[0;34m()\u001b[0m\n\u001b[1;32m      8\u001b[0m \u001b[0;32mwhile\u001b[0m \u001b[0mcount\u001b[0m \u001b[0;34m<\u001b[0m \u001b[0;36m5\u001b[0m\u001b[0;34m:\u001b[0m\u001b[0;34m\u001b[0m\u001b[0;34m\u001b[0m\u001b[0m\n\u001b[1;32m      9\u001b[0m     \u001b[0;31m# Chuyển số thành xâu và sử dụng hàm len để tính số chữ số\u001b[0m\u001b[0;34m\u001b[0m\u001b[0;34m\u001b[0m\u001b[0m\n\u001b[0;32m---> 10\u001b[0;31m     \u001b[0morder\u001b[0m \u001b[0;34m=\u001b[0m \u001b[0mlen\u001b[0m\u001b[0;34m(\u001b[0m\u001b[0mstr\u001b[0m\u001b[0;34m(\u001b[0m\u001b[0mnum\u001b[0m\u001b[0;34m)\u001b[0m\u001b[0;34m)\u001b[0m\u001b[0;34m\u001b[0m\u001b[0;34m\u001b[0m\u001b[0m\n\u001b[0m\u001b[1;32m     11\u001b[0m     \u001b[0mtemp\u001b[0m \u001b[0;34m=\u001b[0m \u001b[0mnum\u001b[0m\u001b[0;34m\u001b[0m\u001b[0;34m\u001b[0m\u001b[0m\n\u001b[1;32m     12\u001b[0m \u001b[0;34m\u001b[0m\u001b[0m\n",
            "\u001b[0;31mKeyboardInterrupt\u001b[0m: "
          ]
        }
      ],
      "source": [
        "# initialize sum, count\n",
        "\n",
        "sum = 0\n",
        "count = 0\n",
        "num = 1\n",
        "\n",
        "# Biến count được sử dụng để đếm số Armstrong đã tìm được\n",
        "while count < 5:\n",
        "    # Chuyển số thành xâu và sử dụng hàm len để tính số chữ số\n",
        "    order = len(str(num))\n",
        "    temp = num\n",
        "\n",
        "    # Tính tổng mũ của các chữ số\n",
        "    while temp > 0:\n",
        "        digit = temp % 10 # Tìm chữ số cuối cùng\n",
        "        ### START CODE HERE ###\n",
        "        # Cộng thêm giá trị của chữ số vừa tìm được vào biến sum và\n",
        "        # thay đổi temp cho bước lặp tiếp theo\n",
        "        sum += digit ** order\n",
        "        temp //= 10\n",
        "\n",
        "        ### END CODE HERE ###\n",
        "\n",
        "    # display the result\n",
        "    if num == sum:\n",
        "        print(num)\n",
        "        count += 1\n",
        "    num += 1"
      ]
    },
    {
      "cell_type": "markdown",
      "metadata": {
        "id": "H8z3J7zeRnqm"
      },
      "source": [
        "# 2. Functions\n",
        "---"
      ]
    },
    {
      "cell_type": "markdown",
      "metadata": {
        "id": "K44COCuNRnqm"
      },
      "source": [
        "## 2.1. Viết hàm nhận vào một số nguyên, trả về giá trị True nếu nó là số nguyên tố, và False nếu nó không phải là số nguyên tố.\n",
        "\n",
        "Sử dụng code của Bài 1.3"
      ]
    },
    {
      "cell_type": "code",
      "execution_count": null,
      "metadata": {
        "id": "tQMwvLHcRnqm"
      },
      "outputs": [],
      "source": [
        "def prime(n):\n",
        "    ### START CODE HERE ###\n",
        "    # Sử dụng code của Bài 1.3\n",
        "  # n = int(input(\"Enter a number: \"))\n",
        "\n",
        "# Số nguyên tố phải lớn hơn 1\n",
        "  if n > 1:\n",
        "    for i in range(2,n):\n",
        "        if (n % i) == 0:\n",
        "            ### START CODE HERE ###\n",
        "          return False\n",
        "    return True\n",
        "            ### END CODE HERE ###\n",
        "  else:\n",
        "        ### START CODE HERE ###\n",
        "      return False\n",
        "\n",
        "        ### END CODE HERE ###\n",
        "\n"
      ]
    },
    {
      "cell_type": "markdown",
      "metadata": {
        "id": "CAUVhVW8Rnqm"
      },
      "source": [
        "Kiểm tra hoạt động của hàm prime(n) đã viết"
      ]
    },
    {
      "cell_type": "code",
      "execution_count": null,
      "metadata": {
        "colab": {
          "base_uri": "https://localhost:8080/"
        },
        "id": "BF3W4iIURnqn",
        "outputId": "2904a84e-1c0f-40eb-eca6-30774395d49d"
      },
      "outputs": [
        {
          "output_type": "stream",
          "name": "stdout",
          "text": [
            "Nhập vào một số:2\n",
            "2 là số nguyên tố\n"
          ]
        }
      ],
      "source": [
        "n = int(input(\"Nhập vào một số:\"))\n",
        "\n",
        "if prime(n):\n",
        "    print(n, 'là số nguyên tố')\n",
        "else:\n",
        "    print(n, 'không phải là số nguyên tố')"
      ]
    },
    {
      "cell_type": "markdown",
      "metadata": {
        "id": "DBHK0INTRnqn"
      },
      "source": [
        "## 2.2. Viết hàm nhận vào một số nguyên, trả về giá trị True nếu nó là số Armstrong, và False nếu nó không phải là số Armstrong.\n",
        "\n",
        "Sử dụng code của Bài 1.5"
      ]
    },
    {
      "cell_type": "code",
      "execution_count": null,
      "metadata": {
        "id": "Gb9s-WKzRnqn"
      },
      "outputs": [],
      "source": [
        "def armstrong(n):\n",
        "    ### START CODE HERE ###\n",
        "    # Sử dụng code của Bài 1.5\n",
        "\n",
        "    ### END CODE HERE ###"
      ]
    },
    {
      "cell_type": "markdown",
      "metadata": {
        "id": "oDNkX6dERnqn"
      },
      "source": [
        "Kiểm tra hoạt động của hàm armstrong(n) đã viết"
      ]
    },
    {
      "cell_type": "code",
      "execution_count": null,
      "metadata": {
        "id": "mwl6vpfmRnqn"
      },
      "outputs": [],
      "source": [
        "n = 153\n",
        "# n = 35\n",
        "if armstrong(n):\n",
        "    print(n, 'là số armstrong')\n",
        "else:\n",
        "    print(n, 'không phải là số armstrong')"
      ]
    },
    {
      "cell_type": "markdown",
      "metadata": {
        "id": "YFHp6dN7Rnqn"
      },
      "source": [
        "## 2.3. Sử dụng hàm Lambda để in ra 10 lũy thừa đầu tiên của 2."
      ]
    },
    {
      "cell_type": "code",
      "execution_count": null,
      "metadata": {
        "id": "7RtjkwF3Rnqo",
        "colab": {
          "base_uri": "https://localhost:8080/"
        },
        "outputId": "32868ac2-a030-4a54-c04b-8b0bd10f5a96"
      },
      "outputs": [
        {
          "output_type": "stream",
          "name": "stdout",
          "text": [
            "2^0 = 1\n",
            "2^1 = 2\n",
            "2^2 = 4\n",
            "2^3 = 8\n",
            "2^4 = 16\n",
            "2^5 = 32\n",
            "2^6 = 64\n",
            "2^7 = 128\n",
            "2^8 = 256\n",
            "2^9 = 512\n"
          ]
        }
      ],
      "source": [
        "# Display the powers of 2 using anonymous function\n",
        "# Sử dụng hàm lambda để tính lũy thừa của 2\n",
        "power_of_2 = lambda n: 2 ** n\n",
        "\n",
        "# In ra 10 lũy thừa đầu tiên của 2\n",
        "for i in range(10):\n",
        "    result = power_of_2(i)\n",
        "    print(f\"2^{i} = {result}\")\n",
        "\n",
        "\n",
        "\n",
        "# use anonymous/lambda function\n"
      ]
    },
    {
      "cell_type": "markdown",
      "metadata": {
        "id": "Yn06s4YnRnqo"
      },
      "source": [
        "## 2.4. Sử dụng hàm Lambda để in ra 10 số chính phương đầu tiên"
      ]
    },
    {
      "cell_type": "code",
      "execution_count": null,
      "metadata": {
        "id": "uARr-MsVRnqo",
        "colab": {
          "base_uri": "https://localhost:8080/"
        },
        "outputId": "cdfbe085-3905-4470-e187-68b351a2165f"
      },
      "outputs": [
        {
          "output_type": "stream",
          "name": "stdout",
          "text": [
            "1\n",
            "4\n",
            "9\n",
            "16\n",
            "25\n",
            "36\n",
            "49\n",
            "64\n",
            "81\n",
            "100\n"
          ]
        }
      ],
      "source": [
        "terms = 10\n",
        "\n",
        "# use anonymous function\n",
        "\n",
        "    ### START CODE HERE ###\n",
        "    # Sử dụng kết hợp với hàm map()\n",
        "result = list(map(lambda x: x ** 2, range(1, terms + 1)))\n",
        "    ### END CODE HERE ###\n",
        "\n",
        "for i in range(terms):\n",
        "    print(result[i])"
      ]
    },
    {
      "cell_type": "markdown",
      "metadata": {
        "id": "cYkEQkTcRnqo"
      },
      "source": [
        "## 2.5. Sử dụng hàm Lambda để in ra các số lẻ trong một dãy"
      ]
    },
    {
      "cell_type": "code",
      "execution_count": null,
      "metadata": {
        "id": "zeO7XELgRnqo",
        "outputId": "b1da37d5-d4cb-42f6-e37b-d25b7bc4c69b",
        "colab": {
          "base_uri": "https://localhost:8080/"
        }
      },
      "outputs": [
        {
          "output_type": "stream",
          "name": "stdout",
          "text": [
            "Các số lẻ trong dãy [65, 39, 339, 221]\n"
          ]
        }
      ],
      "source": [
        "# Take a list of numbers\n",
        "my_list = [12, 65, 54, 39, 102, 339, 221,]\n",
        "\n",
        "# use anonymous function to filter\n",
        "result = list(filter(lambda x: (x % 2 == 1), my_list))\n",
        "\n",
        "# display the result\n",
        "print(\"Các số lẻ trong dãy\",result)"
      ]
    },
    {
      "cell_type": "markdown",
      "metadata": {
        "id": "ZzEAk8XiRnqo"
      },
      "source": [
        "## 2.5. Sử dụng hàm filter() để in ra các số nguyên tố trong một dãy"
      ]
    },
    {
      "cell_type": "code",
      "execution_count": null,
      "metadata": {
        "id": "JPj8iHPnRnqo",
        "colab": {
          "base_uri": "https://localhost:8080/"
        },
        "outputId": "5527dc42-c7f1-43be-dc7e-977ecf0088fc"
      },
      "outputs": [
        {
          "output_type": "stream",
          "name": "stdout",
          "text": [
            "Các số nguyên tố trong dãy [2, 11]\n"
          ]
        }
      ],
      "source": [
        "# Take a list of numbers\n",
        "my_list = [2,11,12, 65, 54, 39, 102, 339, 221]\n",
        "\n",
        "# định nghĩa hàm nhận vào một số nguyên,\n",
        "# trả về giá trị True nếu nó là số nguyên tố,\n",
        "# và False nếu nó không phải là số nguyên tố.\n",
        "def prime(n):\n",
        "    ### START CODE HERE ###\n",
        "  if n > 1:\n",
        "    for i in range(2,n):\n",
        "        if (n % i) == 0:\n",
        "\n",
        "          return False\n",
        "    return True\n",
        "\n",
        "  # else:\n",
        "\n",
        "  #     return False\n",
        "\n",
        "    ### END CODE HERE ###\n",
        "\n",
        "# use filter()\n",
        "    ### START CODE HERE ###\n",
        "result = list(filter(prime, my_list))\n",
        "\n",
        "    ### END CODE HERE ###\n",
        "\n",
        "# display the result\n",
        "print(\"Các số nguyên tố trong dãy\",result)"
      ]
    }
  ],
  "metadata": {
    "kernelspec": {
      "display_name": "Python 3",
      "language": "python",
      "name": "python3"
    },
    "language_info": {
      "codemirror_mode": {
        "name": "ipython",
        "version": 3
      },
      "file_extension": ".py",
      "mimetype": "text/x-python",
      "name": "python",
      "nbconvert_exporter": "python",
      "pygments_lexer": "ipython3",
      "version": "3.11.4"
    },
    "colab": {
      "provenance": []
    }
  },
  "nbformat": 4,
  "nbformat_minor": 0
}